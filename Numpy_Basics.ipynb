{
  "nbformat": 4,
  "nbformat_minor": 0,
  "metadata": {
    "colab": {
      "name": "Numpy Basics",
      "provenance": [],
      "collapsed_sections": []
    },
    "kernelspec": {
      "name": "python3",
      "display_name": "Python 3"
    }
  },
  "cells": [
    {
      "cell_type": "markdown",
      "metadata": {
        "id": "wqMg7-t3ueNh"
      },
      "source": [
        "# Numpy Basics\r\n",
        "\r\n",
        "In this notebook we'll go over the basics of `numpy`. `numpy` is a numerical processing package in python that provides many powerful array manipulation and mathematical functions and operators.\r\n",
        "\r\n",
        "First, we'll talk about importing importing the module, the we will go over the main datatype that supports the module, the `np.ndarray` and basic array manipulation. Then we'll talk about some of useful module routines, as well as some advanced submodules for data science. \r\n",
        "\r\n",
        "## 1. Importing Numpy \r\n",
        "The first thing we do in every python script is import our libraries. Since we're talking about numpy today, we'll import numpy.\r\n",
        "\r\n",
        "One useful thing we can do is print out all the subroutines and submodules within the module to give us an overview of its capabilities."
      ]
    },
    {
      "cell_type": "code",
      "metadata": {
        "id": "GinszwgjuHXP"
      },
      "source": [
        "import numpy as np\r\n",
        "#print(\"\\n\".join(np.__dir__())) # shows available objects, functions and submodules. Uncomment and execute to see full list."
      ],
      "execution_count": 1,
      "outputs": []
    },
    {
      "cell_type": "markdown",
      "metadata": {
        "id": "jooOZGyhwlSt"
      },
      "source": [
        "## 2. All About Arrays\r\n",
        "The `np.ndarray` object is the base object within numpy. It defines a basic array object that can contain whatever we want. \r\n"
      ]
    },
    {
      "cell_type": "markdown",
      "metadata": {
        "id": "ien-FSMpW8F8"
      },
      "source": [
        "![Untitled drawing.jpg](data:image/jpeg;base64,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)"
      ]
    },
    {
      "cell_type": "markdown",
      "metadata": {
        "id": "XhyjvZpqW4OP"
      },
      "source": [
        "\n",
        "### Creating arrays\n",
        "Lets use some of the numpy built-in functionality create some basic arrays.\n",
        "\n",
        "You can create manual arrays by passing a list object into the `np.array()` command:"
      ]
    },
    {
      "cell_type": "code",
      "metadata": {
        "id": "wfT_-HfwL9rR",
        "colab": {
          "base_uri": "https://localhost:8080/"
        },
        "outputId": "6d410708-3073-4a7e-80c5-0d48d55b2c78"
      },
      "source": [
        "# create array manually\n",
        "arr0 = np.array([1, 2, 3, 4, 5]) # manual from 1 to 5\n",
        "arr1 = np.array([1.23, 'two', 3, 'four', 5]) # strings are also possible, but not\n",
        "                                             # mixed data types.\n",
        "arr2 = np.array([\"{}{}_item\".format(i+1,\n",
        "                  'st' if i+1 == 1 else \n",
        "                  'nd' if i+1 == 2 else \n",
        "                  'rd' if i+1 == 3\n",
        "                  else \"th\"\n",
        "                  ) \n",
        "                  for i in range(5)]) # create an array using a list\n",
        "                                      # comprehension\n",
        "print(arr0, arr1, arr2, sep='\\n')"
      ],
      "execution_count": 2,
      "outputs": [
        {
          "output_type": "stream",
          "text": [
            "[1 2 3 4 5]\n",
            "['1.23' 'two' '3' 'four' '5']\n",
            "['1st_item' '2nd_item' '3rd_item' '4th_item' '5th_item']\n"
          ],
          "name": "stdout"
        }
      ]
    },
    {
      "cell_type": "markdown",
      "metadata": {
        "id": "uaYH1BvvBrZT"
      },
      "source": [
        "We can also use the built-in functions to create arrays of ones, zeros, and other constant values:"
      ]
    },
    {
      "cell_type": "code",
      "metadata": {
        "colab": {
          "base_uri": "https://localhost:8080/"
        },
        "id": "fCgZGsoUBSMv",
        "outputId": "16ea7101-a6c5-46ac-bfe8-395c431e1dcf"
      },
      "source": [
        "  # Create arrays with constant values\n",
        "arr3 = np.zeros(6)    # all zeros\n",
        "arr4 = np.ones(6)     # all ones\n",
        "arr5 = 5*np.ones(6) + 2   # constant number (5)\n",
        "print(arr3, arr4, arr5, sep='\\n')"
      ],
      "execution_count": 3,
      "outputs": [
        {
          "output_type": "stream",
          "text": [
            "[0. 0. 0. 0. 0. 0.]\n",
            "[1. 1. 1. 1. 1. 1.]\n",
            "[7. 7. 7. 7. 7. 7.]\n"
          ],
          "name": "stdout"
        }
      ]
    },
    {
      "cell_type": "markdown",
      "metadata": {
        "id": "YKiHQf6fDEYM"
      },
      "source": [
        "We can create random and empty arrays of arbitrary sizes. Values will depend on physical memory state."
      ]
    },
    {
      "cell_type": "code",
      "metadata": {
        "colab": {
          "base_uri": "https://localhost:8080/"
        },
        "id": "rEE17wHbBTP_",
        "outputId": "c633f9b3-dcf8-45ae-9a4f-195055c7b18d"
      },
      "source": [
        "arr6 = np.empty([2, 2])  # 2x2 empty array. no guarantee on valeues.\n",
        "arr7 = np.random.randn(2, 2)  # create a 2x2 array of random floats drawn from a normal distribution\n",
        "arr7b = np.random.uniform(size=[2, 2]) # 2x2 values from uniform distribuion\n",
        "arr8 = np.random.randint(0, 10, [2,2]) # create a 2x2 array of random integers from 0 to 9 inclusive.\n",
        "print(arr6, arr7, arr7b, arr8, sep='\\n')"
      ],
      "execution_count": 4,
      "outputs": [
        {
          "output_type": "stream",
          "text": [
            "[[5.e-324 5.e-324]\n",
            " [5.e-324 0.e+000]]\n",
            "[[ 0.50929604 -0.2528794 ]\n",
            " [ 0.5583354  -0.96847924]]\n",
            "[[0.71484123 0.42388761]\n",
            " [0.684303   0.79090173]]\n",
            "[[7 6]\n",
            " [7 6]]\n"
          ],
          "name": "stdout"
        }
      ]
    },
    {
      "cell_type": "markdown",
      "metadata": {
        "id": "2a1kqNZsDUjq"
      },
      "source": [
        "We can use `np.arange` and `np.linspace` to create 1-dimensional arrays containing regular sequences of numbers:"
      ]
    },
    {
      "cell_type": "code",
      "metadata": {
        "colab": {
          "base_uri": "https://localhost:8080/"
        },
        "id": "5WTkMtWbBUFX",
        "outputId": "a82b8567-a6fc-48ea-8dd9-27318040aca9"
      },
      "source": [
        "# ranges using np.arange and np.linspace\n",
        "arr9 = np.arange(5) # in sequence, integers 0 <= i < 5\n",
        "arr10 = np.arange(2, 12, 3) # values from 2 to 12, every 3 values\n",
        "arr11 = np.arange(0, 20, 2, dtype=np.float) # values from 0 to 20, every 2 values, as type float\n",
        "arr12 = np.linspace(0, 18, 10) # values from 0 to 18, 10 items linearly spaced (same as above)\n",
        "arr13 = np.linspace(0, 200) # value from 0 to 200, linearly spaced. default number of items is 50.\n",
        "\n",
        "print(arr9, arr10, arr11, arr12, arr13, sep='\\n')"
      ],
      "execution_count": 5,
      "outputs": [
        {
          "output_type": "stream",
          "text": [
            "[0 1 2 3 4]\n",
            "[ 2  5  8 11]\n",
            "[ 0.  2.  4.  6.  8. 10. 12. 14. 16. 18.]\n",
            "[ 0.  2.  4.  6.  8. 10. 12. 14. 16. 18.]\n",
            "[  0.           4.08163265   8.16326531  12.24489796  16.32653061\n",
            "  20.40816327  24.48979592  28.57142857  32.65306122  36.73469388\n",
            "  40.81632653  44.89795918  48.97959184  53.06122449  57.14285714\n",
            "  61.2244898   65.30612245  69.3877551   73.46938776  77.55102041\n",
            "  81.63265306  85.71428571  89.79591837  93.87755102  97.95918367\n",
            " 102.04081633 106.12244898 110.20408163 114.28571429 118.36734694\n",
            " 122.44897959 126.53061224 130.6122449  134.69387755 138.7755102\n",
            " 142.85714286 146.93877551 151.02040816 155.10204082 159.18367347\n",
            " 163.26530612 167.34693878 171.42857143 175.51020408 179.59183673\n",
            " 183.67346939 187.75510204 191.83673469 195.91836735 200.        ]\n"
          ],
          "name": "stdout"
        }
      ]
    },
    {
      "cell_type": "markdown",
      "metadata": {
        "id": "wRq-hqnFDtbQ"
      },
      "source": [
        "We can also use built-in functions to create multi dimensional arrays. "
      ]
    },
    {
      "cell_type": "code",
      "metadata": {
        "colab": {
          "base_uri": "https://localhost:8080/"
        },
        "id": "zW_7GNA8BUaA",
        "outputId": "a82a018f-c133-4820-95bd-5311ea66a5ca"
      },
      "source": [
        "# multi dimensional arrays\n",
        "arr14 = np.ones([5, 5]) # ones array of size 5x5\n",
        "arr15 = np.zeros([2, 2, 3]) # zeros array of size 2x2x3\n",
        "arr16 = np.array([[1, 2, 3], [4, 5, 6], [7, 8, 9]])\n",
        "arr16a = np.random.randn(1, 2, 3)\n",
        "print(arr14, arr15, arr16, arr16a, sep='\\n')"
      ],
      "execution_count": 6,
      "outputs": [
        {
          "output_type": "stream",
          "text": [
            "[[1. 1. 1. 1. 1.]\n",
            " [1. 1. 1. 1. 1.]\n",
            " [1. 1. 1. 1. 1.]\n",
            " [1. 1. 1. 1. 1.]\n",
            " [1. 1. 1. 1. 1.]]\n",
            "[[[0. 0. 0.]\n",
            "  [0. 0. 0.]]\n",
            "\n",
            " [[0. 0. 0.]\n",
            "  [0. 0. 0.]]]\n",
            "[[1 2 3]\n",
            " [4 5 6]\n",
            " [7 8 9]]\n",
            "[[[-1.43864221e+00 -1.50243418e+00 -1.03890800e-04]\n",
            "  [-7.11941277e-01  5.97499526e-01 -5.91038786e-03]]]\n"
          ],
          "name": "stdout"
        }
      ]
    },
    {
      "cell_type": "code",
      "metadata": {
        "colab": {
          "base_uri": "https://localhost:8080/"
        },
        "id": "amq96PKkEVb7",
        "outputId": "6f15bc27-2657-4ac6-995d-72395651ea48"
      },
      "source": [
        "# creates \"index\" arrays for multiple dimensions. See numpy documentation for details.\n",
        "arr16x, arr16y, arr16z = np.meshgrid(range(1), range(2), range(3)) \n",
        "print('X:', arr16x, 'Y:', arr16y, 'Z:', arr16z, sep='\\n')"
      ],
      "execution_count": 7,
      "outputs": [
        {
          "output_type": "stream",
          "text": [
            "X:\n",
            "[[[0 0 0]]\n",
            "\n",
            " [[0 0 0]]]\n",
            "Y:\n",
            "[[[0 0 0]]\n",
            "\n",
            " [[1 1 1]]]\n",
            "Z:\n",
            "[[[0 1 2]]\n",
            "\n",
            " [[0 1 2]]]\n"
          ],
          "name": "stdout"
        }
      ]
    },
    {
      "cell_type": "markdown",
      "metadata": {
        "id": "lITOhwTIEwpn"
      },
      "source": [
        "### Array Manipulation\n",
        "\n",
        "Arrays can be manipulated using indexing, mathematical operators as well as built-in numpy functions. One must make sure that array sizes match for various operations (such as array addition and matrix multiplication)"
      ]
    },
    {
      "cell_type": "code",
      "metadata": {
        "colab": {
          "base_uri": "https://localhost:8080/"
        },
        "id": "kHVDZJ8CE-5_",
        "outputId": "c9151ee2-a42e-4bd3-b8a9-3e18ec35c80d"
      },
      "source": [
        "# create random arrays for these examples\n",
        "\n",
        "arr1 = np.random.randint(0, 100, [5, 5])\n",
        "arr2 = np.ones([5, 5])\n",
        "\n",
        "print(arr1, arr2)"
      ],
      "execution_count": 8,
      "outputs": [
        {
          "output_type": "stream",
          "text": [
            "[[53 76 61 70 37]\n",
            " [12 33 27 41 55]\n",
            " [23 39 36 29 83]\n",
            " [61 74  3 94 25]\n",
            " [74  8 69 57  4]] [[1. 1. 1. 1. 1.]\n",
            " [1. 1. 1. 1. 1.]\n",
            " [1. 1. 1. 1. 1.]\n",
            " [1. 1. 1. 1. 1.]\n",
            " [1. 1. 1. 1. 1.]]\n"
          ],
          "name": "stdout"
        }
      ]
    },
    {
      "cell_type": "markdown",
      "metadata": {
        "id": "TsK3PE3LJxRJ"
      },
      "source": [
        "Indexing occurs using the bracket operators `[]` and the operators `:` and `...` for ranges. The `...` notation means every subsequent axis. For example, to get the first through third rows of a 2 dimensional, you could use either `arr[0:3, :]` or `arr[0:3, ...]`. More examples below."
      ]
    },
    {
      "cell_type": "code",
      "metadata": {
        "colab": {
          "base_uri": "https://localhost:8080/"
        },
        "id": "ub3QLWSxJx5r",
        "outputId": "d335e0d7-d40a-41e9-a1ca-fd7eae9c058a"
      },
      "source": [
        "arr1_1r = arr1[1, :] # get index 1 row\n",
        "arr1_1rd = arr1[1, ...] # same as above\n",
        "arr1_1c = arr1[:, 1] # get index 1 column\n",
        "arr1_2pr = arr1[2:, ...] # get all rows from index 2 onwards\n",
        "arr1_3bc = arr1[:, :3] # get all cols up to col index 3 (exclusive)\n",
        "\n",
        "print(arr1_1r, arr1_1rd, arr1_1c, arr1_2pr, arr1_3bc, sep='\\n')\n"
      ],
      "execution_count": 9,
      "outputs": [
        {
          "output_type": "stream",
          "text": [
            "[12 33 27 41 55]\n",
            "[12 33 27 41 55]\n",
            "[76 33 39 74  8]\n",
            "[[23 39 36 29 83]\n",
            " [61 74  3 94 25]\n",
            " [74  8 69 57  4]]\n",
            "[[53 76 61]\n",
            " [12 33 27]\n",
            " [23 39 36]\n",
            " [61 74  3]\n",
            " [74  8 69]]\n"
          ],
          "name": "stdout"
        }
      ]
    },
    {
      "cell_type": "markdown",
      "metadata": {
        "id": "SrumWruCGT2E"
      },
      "source": [
        "Basic arithmetic and matrix multiplication happens as one would expect with constant numbers:"
      ]
    },
    {
      "cell_type": "code",
      "metadata": {
        "colab": {
          "base_uri": "https://localhost:8080/"
        },
        "id": "kp1wVqovGTZj",
        "outputId": "91857b81-d4bd-4921-99fc-38f1f583a883"
      },
      "source": [
        "output1 = ((arr1 * arr2) + (arr2 - arr1)) / arr1 # element wise operations\n",
        "output2 = np.matmul(arr1, arr2) # matrix multiplication \n",
        "print(output1, output2, sep='\\n')"
      ],
      "execution_count": 10,
      "outputs": [
        {
          "output_type": "stream",
          "text": [
            "[[0.01886792 0.01315789 0.01639344 0.01428571 0.02702703]\n",
            " [0.08333333 0.03030303 0.03703704 0.02439024 0.01818182]\n",
            " [0.04347826 0.02564103 0.02777778 0.03448276 0.01204819]\n",
            " [0.01639344 0.01351351 0.33333333 0.0106383  0.04      ]\n",
            " [0.01351351 0.125      0.01449275 0.01754386 0.25      ]]\n",
            "[[297. 297. 297. 297. 297.]\n",
            " [168. 168. 168. 168. 168.]\n",
            " [210. 210. 210. 210. 210.]\n",
            " [257. 257. 257. 257. 257.]\n",
            " [212. 212. 212. 212. 212.]]\n"
          ],
          "name": "stdout"
        }
      ]
    },
    {
      "cell_type": "markdown",
      "metadata": {
        "id": "H03eMhjkHdqe"
      },
      "source": [
        "Built-in array operators are useful as well. See documentation for full list of operations."
      ]
    },
    {
      "cell_type": "code",
      "metadata": {
        "colab": {
          "base_uri": "https://localhost:8080/"
        },
        "id": "O-iXO34lHdFQ",
        "outputId": "98c29e66-5257-436b-cc30-c925834718fc"
      },
      "source": [
        "a = np.min(arr1) # min val globally\n",
        "b = np.max(arr1)\n",
        "c = np.min(arr1, axis=0) # min val of each row in the 0th dimension\n",
        "d = np.max(arr1, axis=1) # max val of each col in the 1st dimension\n",
        "e = np.sort(arr1, axis=0)\n",
        "f = np.unique(arr1)\n",
        "g = np.flip(arr1, axis=1) # flip along 1st dimension\n",
        "h = np.fliplr(arr1) # same as above\n",
        "i = np.isnan(arr1)  # locical element-wise check for nans.\n",
        "j = np.isnan(arr1).astype(float) # same as above, but convert bool to float\n",
        "print(arr1, a, b, c, d, e, f, g, h, i, j, sep='\\n')"
      ],
      "execution_count": 11,
      "outputs": [
        {
          "output_type": "stream",
          "text": [
            "[[53 76 61 70 37]\n",
            " [12 33 27 41 55]\n",
            " [23 39 36 29 83]\n",
            " [61 74  3 94 25]\n",
            " [74  8 69 57  4]]\n",
            "3\n",
            "94\n",
            "[12  8  3 29  4]\n",
            "[76 55 83 94 74]\n",
            "[[12  8  3 29  4]\n",
            " [23 33 27 41 25]\n",
            " [53 39 36 57 37]\n",
            " [61 74 61 70 55]\n",
            " [74 76 69 94 83]]\n",
            "[ 3  4  8 12 23 25 27 29 33 36 37 39 41 53 55 57 61 69 70 74 76 83 94]\n",
            "[[37 70 61 76 53]\n",
            " [55 41 27 33 12]\n",
            " [83 29 36 39 23]\n",
            " [25 94  3 74 61]\n",
            " [ 4 57 69  8 74]]\n",
            "[[37 70 61 76 53]\n",
            " [55 41 27 33 12]\n",
            " [83 29 36 39 23]\n",
            " [25 94  3 74 61]\n",
            " [ 4 57 69  8 74]]\n",
            "[[False False False False False]\n",
            " [False False False False False]\n",
            " [False False False False False]\n",
            " [False False False False False]\n",
            " [False False False False False]]\n",
            "[[0. 0. 0. 0. 0.]\n",
            " [0. 0. 0. 0. 0.]\n",
            " [0. 0. 0. 0. 0.]\n",
            " [0. 0. 0. 0. 0.]\n",
            " [0. 0. 0. 0. 0.]]\n"
          ],
          "name": "stdout"
        }
      ]
    },
    {
      "cell_type": "markdown",
      "metadata": {
        "id": "e4CBKoibMUBJ"
      },
      "source": [
        "## 2. Mathematical Routines\n",
        "\n",
        "`numpy` has many built in routines that make mathematical processing very easy. Below are examples of some of the types of routines avaialble.\n",
        "\n",
        "### Trigonometric Functions"
      ]
    },
    {
      "cell_type": "code",
      "metadata": {
        "colab": {
          "base_uri": "https://localhost:8080/"
        },
        "id": "teJUSjWTMTYm",
        "outputId": "d2043dbd-84be-4338-e6be-c597e7def718"
      },
      "source": [
        "sin = np.sin(arr1) # sine in radians\n",
        "cos = np.cos(arr1) # cosine in radians\n",
        "deg = np.degrees(sin) # radians to degrees\n",
        "print(sin, cos, deg, sep='\\n')"
      ],
      "execution_count": 12,
      "outputs": [
        {
          "output_type": "stream",
          "text": [
            "[[ 0.39592515  0.56610764 -0.96611777  0.77389068 -0.64353813]\n",
            " [-0.53657292  0.99991186  0.95637593 -0.15862267 -0.99975517]\n",
            " [-0.8462204   0.96379539 -0.99177885 -0.66363388  0.96836446]\n",
            " [-0.96611777 -0.98514626  0.14112001 -0.24525199 -0.13235175]\n",
            " [-0.98514626  0.98935825 -0.11478481  0.43616476 -0.7568025 ]]\n",
            "[[-0.91828279  0.82433133 -0.25810164  0.6333192   0.76541405]\n",
            " [ 0.84385396 -0.01327675 -0.29213881 -0.98733928  0.02212676]\n",
            " [-0.53283302  0.26664293 -0.12796369 -0.74805753  0.24954012]\n",
            " [-0.25810164  0.17171734 -0.9899925   0.96945937  0.99120281]\n",
            " [ 0.17171734 -0.14550003  0.99339038  0.89986683 -0.65364362]]\n",
            "[[ 22.68484011  32.43557834 -55.35447073  44.34066986 -36.872019  ]\n",
            " [-30.7433636   57.29072947  54.79630433  -9.08840946 -57.28175198]\n",
            " [-48.4848577   55.22140795 -56.82474251 -38.02342071  55.48319665]\n",
            " [-55.35447073 -56.44472293   8.08558087 -14.05190368  -7.58319669]\n",
            " [-56.44472293  56.68605196  -6.57668538  24.99039965 -43.36158891]]\n"
          ],
          "name": "stdout"
        }
      ]
    },
    {
      "cell_type": "markdown",
      "metadata": {
        "id": "MbFQ508oM-LD"
      },
      "source": [
        "### Rounding functions"
      ]
    },
    {
      "cell_type": "code",
      "metadata": {
        "colab": {
          "base_uri": "https://localhost:8080/"
        },
        "id": "kXnPyU2hM9wL",
        "outputId": "90557530-e3e7-4973-eb3e-0bd6ed1db7a3"
      },
      "source": [
        "ceil = np.ceil(arr1) # raise to nearest integer. Preserves data type.\n",
        "round = np.round(arr1) # round to integer. converts data to integer type\n",
        "\n",
        "print(ceil, round, sep='\\n')"
      ],
      "execution_count": 13,
      "outputs": [
        {
          "output_type": "stream",
          "text": [
            "[[53. 76. 61. 70. 37.]\n",
            " [12. 33. 27. 41. 55.]\n",
            " [23. 39. 36. 29. 83.]\n",
            " [61. 74.  3. 94. 25.]\n",
            " [74.  8. 69. 57.  4.]]\n",
            "[[53 76 61 70 37]\n",
            " [12 33 27 41 55]\n",
            " [23 39 36 29 83]\n",
            " [61 74  3 94 25]\n",
            " [74  8 69 57  4]]\n"
          ],
          "name": "stdout"
        }
      ]
    },
    {
      "cell_type": "markdown",
      "metadata": {
        "id": "SRH1_gCCR20W"
      },
      "source": [
        "### Aggregate functions\n",
        "These can be similar to built-in operators, but they operate directly on array objects using built-in functions."
      ]
    },
    {
      "cell_type": "code",
      "metadata": {
        "colab": {
          "base_uri": "https://localhost:8080/"
        },
        "id": "6O1KAUakSB0w",
        "outputId": "56c5f537-7933-4c0f-d007-911bf33646d9"
      },
      "source": [
        "sum_ = arr1.sum()\n",
        "mean_ = arr1.mean()\n",
        "cumsum_ = arr1.cumsum()\n",
        "\n",
        "print(sum_, mean_, cumsum_, sep = '\\n')"
      ],
      "execution_count": 14,
      "outputs": [
        {
          "output_type": "stream",
          "text": [
            "1144\n",
            "45.76\n",
            "[  53  129  190  260  297  309  342  369  410  465  488  527  563  592\n",
            "  675  736  810  813  907  932 1006 1014 1083 1140 1144]\n"
          ],
          "name": "stdout"
        }
      ]
    },
    {
      "cell_type": "markdown",
      "metadata": {
        "id": "Z5MvKvaxLzzA"
      },
      "source": [
        "### Useful Numpy sub-modules\n",
        "\n",
        "There are also many built-in submodules that provide useful functionality for data science. Many of these submodules have functions that are already baked into numpy natively, while some may have to be imported explicity using `from numpy import submodule_name as submodule_alias` or a similar import\n",
        "\n",
        "### [`np.linalg`](https://numpy.org/doc/1.19/reference/routines.linalg.html)\n",
        "Various linear algebra operations, such as dot products and eigenvalue decomoposition.\n",
        "\n",
        "### [`np.fft`](https://numpy.org/doc/1.19/reference/routines.fft.html)\n",
        "Operations for discrete Fourier Transforms.\n",
        "\n",
        "### [`np.matlib`](https://)\n",
        "Provides explicit matrix types and routines for numpy.\n",
        "\n",
        "### [`np.dual`](https://numpy.org/doc/1.19/reference/routines.dual.html)\n",
        "Aliases for scipy-accelerated functions, such as eigenvalue decomposition and cholesky factorization. Similar outputs to those found in linear algebra and other sub modules, but accelerated using the more advanced `scipy` package.\n",
        "\n",
        "### [`np.emath`](https://numpy.org/doc/1.19/reference/routines.emath.html)\n",
        "Helpful for equality evaluation for data types that mismatch and outputs that vary by very small numbers."
      ]
    },
    {
      "cell_type": "markdown",
      "metadata": {
        "id": "6B0F6VKK5Rst"
      },
      "source": [
        "## 5. Additional Examples, Tutorials and Extended Learning\n",
        "\n",
        "Depending on your application, numpy may provide the tools you need.\n",
        "\n",
        "Check out the numpy reference [here](https://numpy.org/doc/stable/), and some useful tutorials [here](https://numpy.org/doc/stable/user/tutorials_index.html) and [here](https://www.w3schools.com/python/numpy_intro.asp)."
      ]
    },
    {
      "cell_type": "markdown",
      "metadata": {
        "id": "Uek_ca8ZXOQy"
      },
      "source": [
        "[Next time,](https://www.youtube.com/channel/UCvVAxOBEAMgu7WwTcFptt-w?sub_confirmation=1) we're going to talk about Scipy, a powerful scientific processing library."
      ]
    }
  ]
}